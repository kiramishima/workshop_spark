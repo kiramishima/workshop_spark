{
 "cells": [
  {
   "cell_type": "code",
   "execution_count": 1,
   "metadata": {},
   "outputs": [],
   "source": [
    "from pyspark import SparkConf, SparkContext\n",
    "\n",
    "conf = SparkConf().setMaster(\"local[2]\").setAppName(\"PythonRDD\")\n",
    "\n",
    "# Inicializo el Spark Context\n",
    "sc = SparkContext(conf = conf)"
   ]
  },
  {
   "cell_type": "code",
   "execution_count": 2,
   "metadata": {},
   "outputs": [
    {
     "name": "stdout",
     "output_type": "stream",
     "text": [
      "Elementos en el RDD: 0\n",
      "Particiones en el RDD: 0\n"
     ]
    }
   ],
   "source": [
    "# Crear un RDD vacio\n",
    "rdd_vacio = sc.emptyRDD()\n",
    "print(f\"Elementos en el RDD: {rdd_vacio.count()}\")\n",
    "print(f\"Particiones en el RDD: {rdd_vacio.getNumPartitions()}\")"
   ]
  },
  {
   "cell_type": "code",
   "execution_count": 3,
   "metadata": {},
   "outputs": [
    {
     "name": "stdout",
     "output_type": "stream",
     "text": [
      "Elementos en el RDD: 0\n",
      "Particiones en el RDD: 3\n"
     ]
    }
   ],
   "source": [
    "# Crear un RDD con parallelize\n",
    "rdd_vacio_3p = sc.parallelize([], 3)\n",
    "\n",
    "print(f\"Elementos en el RDD: {rdd_vacio_3p.count()}\")\n",
    "print(f\"Particiones en el RDD: {rdd_vacio_3p.getNumPartitions()}\")"
   ]
  },
  {
   "cell_type": "code",
   "execution_count": 4,
   "metadata": {},
   "outputs": [
    {
     "name": "stdout",
     "output_type": "stream",
     "text": [
      "Elementos en dataRDD: 7\n",
      "Particiones en dataRDD: 2\n"
     ]
    }
   ],
   "source": [
    "# Crear un RDD de tuplas (nombre, edad)\n",
    "dataRDD = sc.parallelize([(\"Jinx\", 22), (\"Solid Snake\", 26), (\"Naka\", 39), (\"Marlon\", 21), (\"Jhon Snow\", 25), (\"Solid Snake\", 24), (\"Marlon\", 19)])\n",
    "print(f\"Elementos en dataRDD: {dataRDD.count()}\")\n",
    "print(f\"Particiones en dataRDD: {dataRDD.getNumPartitions()}\")"
   ]
  },
  {
   "cell_type": "code",
   "execution_count": 5,
   "metadata": {},
   "outputs": [],
   "source": [
    "# Usaremos map & reduceByKey y obtener la media de la edad\n",
    "edadesRDD = (dataRDD\n",
    "    .map(lambda x: (x[0], (x[1], 1)))\n",
    "    .reduceByKey(lambda x, y: (x[0] + y[0], x[1] + y[1]))\n",
    "    #.map(lambda x: (x[0], x[1][0]/x[1][1]))\n",
    ")"
   ]
  },
  {
   "cell_type": "code",
   "execution_count": 6,
   "metadata": {},
   "outputs": [
    {
     "name": "stdout",
     "output_type": "stream",
     "text": [
      "[('Solid Snake', (50, 2)), ('Naka', (39, 1)), ('Jhon Snow', (25, 1)), ('Jinx', (22, 1)), ('Marlon', (40, 2))]\n"
     ]
    }
   ],
   "source": [
    "# Accion\n",
    "result = edadesRDD.collect()\n",
    "print(result)"
   ]
  },
  {
   "cell_type": "code",
   "execution_count": 7,
   "metadata": {},
   "outputs": [
    {
     "name": "stdout",
     "output_type": "stream",
     "text": [
      "[('Solid Snake', 25.0), ('Naka', 39.0), ('Jhon Snow', 25.0), ('Jinx', 22.0), ('Marlon', 20.0)]\n"
     ]
    }
   ],
   "source": [
    "r2 = edadesRDD.map(lambda x: (x[0], x[1][0]/x[1][1]))\n",
    "print(r2.collect())"
   ]
  },
  {
   "cell_type": "code",
   "execution_count": 8,
   "metadata": {},
   "outputs": [],
   "source": [
    "# Guardamos el RDD\n",
    "r2.coalesce(1).saveAsTextFile('./colab-rdd')\n",
    "sc.stop()"
   ]
  }
 ],
 "metadata": {
  "kernelspec": {
   "display_name": "Python 3",
   "language": "python",
   "name": "python3"
  },
  "language_info": {
   "codemirror_mode": {
    "name": "ipython",
    "version": 3
   },
   "file_extension": ".py",
   "mimetype": "text/x-python",
   "name": "python",
   "nbconvert_exporter": "python",
   "pygments_lexer": "ipython3",
   "version": "3.11.10"
  }
 },
 "nbformat": 4,
 "nbformat_minor": 2
}
