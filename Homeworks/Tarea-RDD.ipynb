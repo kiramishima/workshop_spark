{
 "cells": [
  {
   "cell_type": "markdown",
   "metadata": {},
   "source": [
    "1. Crea una sesión de Spark con nombre `TareaRDD` y asegúrate de que emplea todos los cores disponibles para ejecutar en su ambiente de trabajo.\n",
    "\n",
    "\n",
    "2. Crea dos RDD vacíos, uno de ellos no debe contener particiones y el otro debe tener 5 particiones. Utiliza  diferentes maneras de crearlo para crear cada RDD.\n",
    "\n",
    "\n",
    "\n",
    "3. Crea un RDD que contenga los números primos que hay entre 1 y 20.\n",
    "\n",
    "\n",
    "\n",
    "4. Cree un nuevo RDD a partir del RDD creado en el ejercicio anterior el cuál solo contenga los números primos mayores a 10.\n",
    "\n",
    "\n",
    "\n",
    "5. Crea un archivo de texto  y cargalo en el ambiente de trabajo de Colab.\n",
    "\n",
    "    ```python\n",
    "    # Crear un RDD desde un archivo de texto\n",
    "    rdd_texto = sc.textFile('/content/rdd_source.txt') #cada linea del texto representa un registro\n",
    "    rdd_texto.collect()\n",
    "    ```\n",
    "\n",
    "6. Crea un RDD a partir de este archivo de texto en donde todo el documento esté contenido en un solo registro."
   ]
  }
 ],
 "metadata": {
  "language_info": {
   "name": "python"
  }
 },
 "nbformat": 4,
 "nbformat_minor": 2
}
